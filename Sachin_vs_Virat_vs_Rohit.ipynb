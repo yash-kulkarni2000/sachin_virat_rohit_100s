{
 "cells": [
  {
   "cell_type": "markdown",
   "metadata": {},
   "source": [
    "importing libraries"
   ]
  },
  {
   "cell_type": "code",
   "execution_count": 1,
   "metadata": {},
   "outputs": [],
   "source": [
    "import numpy as np\n",
    "import matplotlib.pyplot as plt\n",
    "import pandas as pd\n",
    "plt.style.use('ggplot')"
   ]
  },
  {
   "cell_type": "markdown",
   "metadata": {},
   "source": [
    "importing the datasets"
   ]
  },
  {
   "cell_type": "code",
   "execution_count": 2,
   "metadata": {},
   "outputs": [],
   "source": [
    "data_virat = pd.read_csv(r\"D:\\tech\\Medium projects\\Sachin vs Virat vs Rohit\\dataset\\archive_virat\\71 Centuries of Virat Kohli.csv\")\n",
    "data_sachin = pd.read_csv(r\"D:\\tech\\Medium projects\\Sachin vs Virat vs Rohit\\dataset\\archive_sachin\\Sachin Tendulkar - 100 Centuries.csv\")\n",
    "data_rohit = pd.read_csv(r\"D:\\tech\\Medium projects\\Sachin vs Virat vs Rohit\\dataset\\archive_rohit\\Rohit-Sharma-All-International-Cricket-Centuries.csv\")"
   ]
  },
  {
   "cell_type": "markdown",
   "metadata": {},
   "source": [
    "### data analysis and preprocessing"
   ]
  },
  {
   "cell_type": "markdown",
   "metadata": {},
   "source": [
    "1. analysing the virat kohli dataset"
   ]
  },
  {
   "cell_type": "code",
   "execution_count": 3,
   "metadata": {},
   "outputs": [
    {
     "name": "stdout",
     "output_type": "stream",
     "text": [
      "<class 'pandas.core.frame.DataFrame'>\n",
      "RangeIndex: 71 entries, 0 to 70\n",
      "Data columns (total 14 columns):\n",
      " #   Column            Non-Null Count  Dtype  \n",
      "---  ------            --------------  -----  \n",
      " 0   Score             71 non-null     int64  \n",
      " 1   Out/Not Out       71 non-null     object \n",
      " 2   Against           71 non-null     object \n",
      " 3   Batting Order     71 non-null     int64  \n",
      " 4   Inn.              71 non-null     int64  \n",
      " 5   Strike Rate       44 non-null     float64\n",
      " 6   Venue             71 non-null     object \n",
      " 7   Column1           71 non-null     object \n",
      " 8   H/A               71 non-null     object \n",
      " 9   Date              71 non-null     object \n",
      " 10  Result            71 non-null     object \n",
      " 11  Format            71 non-null     object \n",
      " 12  Man of the Match  71 non-null     object \n",
      " 13  Captain           71 non-null     object \n",
      "dtypes: float64(1), int64(3), object(10)\n",
      "memory usage: 7.9+ KB\n"
     ]
    }
   ],
   "source": [
    "data_virat.info()"
   ]
  },
  {
   "cell_type": "markdown",
   "metadata": {},
   "source": [
    "2. analysing the sachin tendulkar dataset"
   ]
  },
  {
   "cell_type": "code",
   "execution_count": 4,
   "metadata": {},
   "outputs": [
    {
     "name": "stdout",
     "output_type": "stream",
     "text": [
      "<class 'pandas.core.frame.DataFrame'>\n",
      "RangeIndex: 100 entries, 0 to 99\n",
      "Data columns (total 15 columns):\n",
      " #   Column               Non-Null Count  Dtype  \n",
      "---  ------               --------------  -----  \n",
      " 0   S.No.                100 non-null    int64  \n",
      " 1   Score                100 non-null    int64  \n",
      " 2   Dismissed            100 non-null    object \n",
      " 3   Captain              100 non-null    object \n",
      " 4   Player of the match  100 non-null    object \n",
      " 5   Against              100 non-null    object \n",
      " 6   Position             100 non-null    int64  \n",
      " 7   Innings              100 non-null    int64  \n",
      " 8   test                 51 non-null     float64\n",
      " 9   Strike Rate          49 non-null     float64\n",
      " 10  Venue                100 non-null    object \n",
      " 11  City                 100 non-null    object \n",
      " 12  H/A                  100 non-null    object \n",
      " 13  Date                 100 non-null    object \n",
      " 14  Result               100 non-null    object \n",
      "dtypes: float64(2), int64(4), object(9)\n",
      "memory usage: 11.8+ KB\n"
     ]
    }
   ],
   "source": [
    "data_sachin.info()"
   ]
  },
  {
   "cell_type": "markdown",
   "metadata": {},
   "source": [
    "3. analysing the rohit sharma dataset"
   ]
  },
  {
   "cell_type": "code",
   "execution_count": 5,
   "metadata": {},
   "outputs": [
    {
     "name": "stdout",
     "output_type": "stream",
     "text": [
      "<class 'pandas.core.frame.DataFrame'>\n",
      "RangeIndex: 43 entries, 0 to 42\n",
      "Data columns (total 9 columns):\n",
      " #   Column    Non-Null Count  Dtype \n",
      "---  ------    --------------  ----- \n",
      " 0   No.       43 non-null     int64 \n",
      " 1   Score     43 non-null     object\n",
      " 2   Against   43 non-null     object\n",
      " 3   Position  43 non-null     int64 \n",
      " 4   Innings   43 non-null     int64 \n",
      " 5   Venue     43 non-null     object\n",
      " 6   Ground    43 non-null     object\n",
      " 7   Date      43 non-null     object\n",
      " 8   Result    43 non-null     object\n",
      "dtypes: int64(3), object(6)\n",
      "memory usage: 3.1+ KB\n"
     ]
    }
   ],
   "source": [
    "data_rohit.info()"
   ]
  },
  {
   "cell_type": "markdown",
   "metadata": {},
   "source": [
    "4. dropping the columns the are not reqd. and renaming columns from virat kohli dataset"
   ]
  },
  {
   "cell_type": "code",
   "execution_count": 6,
   "metadata": {},
   "outputs": [
    {
     "data": {
      "text/html": [
       "<div>\n",
       "<style scoped>\n",
       "    .dataframe tbody tr th:only-of-type {\n",
       "        vertical-align: middle;\n",
       "    }\n",
       "\n",
       "    .dataframe tbody tr th {\n",
       "        vertical-align: top;\n",
       "    }\n",
       "\n",
       "    .dataframe thead th {\n",
       "        text-align: right;\n",
       "    }\n",
       "</style>\n",
       "<table border=\"1\" class=\"dataframe\">\n",
       "  <thead>\n",
       "    <tr style=\"text-align: right;\">\n",
       "      <th></th>\n",
       "      <th>Score</th>\n",
       "      <th>Against</th>\n",
       "      <th>Stadium</th>\n",
       "    </tr>\n",
       "  </thead>\n",
       "  <tbody>\n",
       "    <tr>\n",
       "      <th>0</th>\n",
       "      <td>116</td>\n",
       "      <td>Australia</td>\n",
       "      <td>Adelaide Oval</td>\n",
       "    </tr>\n",
       "    <tr>\n",
       "      <th>1</th>\n",
       "      <td>103</td>\n",
       "      <td>New Zealand</td>\n",
       "      <td>M. Chinnaswamy Stadium</td>\n",
       "    </tr>\n",
       "    <tr>\n",
       "      <th>2</th>\n",
       "      <td>103</td>\n",
       "      <td>England</td>\n",
       "      <td>Vidarbha Cricket Association Stadium</td>\n",
       "    </tr>\n",
       "    <tr>\n",
       "      <th>3</th>\n",
       "      <td>107</td>\n",
       "      <td>Australia</td>\n",
       "      <td>M. A. Chidambaram Stadium</td>\n",
       "    </tr>\n",
       "    <tr>\n",
       "      <th>4</th>\n",
       "      <td>119</td>\n",
       "      <td>South Africa</td>\n",
       "      <td>Wanderers Stadium</td>\n",
       "    </tr>\n",
       "  </tbody>\n",
       "</table>\n",
       "</div>"
      ],
      "text/plain": [
       "   Score       Against                               Stadium\n",
       "0    116     Australia                         Adelaide Oval\n",
       "1    103   New Zealand                M. Chinnaswamy Stadium\n",
       "2    103       England  Vidarbha Cricket Association Stadium\n",
       "3    107     Australia             M. A. Chidambaram Stadium\n",
       "4    119  South Africa                     Wanderers Stadium"
      ]
     },
     "execution_count": 6,
     "metadata": {},
     "output_type": "execute_result"
    }
   ],
   "source": [
    "data_virat = data_virat.rename(columns={\"Venue\":\"Stadium\", \"Column1\":\"City\", \"Inn.\":\"Innings\", \"H/A\":\"Home/Away\", \n",
    "                                  \"Out/Not Out\":\"Dismissed\"})\n",
    "data_virat = data_virat.drop([\"Dismissed\",\"Batting Order\",\"Innings\",\"Strike Rate\",\"Captain\",\"Batting Order\",\n",
    "                  \"Innings\",\"Strike Rate\",\"Home/Away\",\"Result\",\"Date\",\"Format\",\"City\",\"Man of the Match\"], axis=1)\n",
    "data_virat.head()"
   ]
  },
  {
   "cell_type": "markdown",
   "metadata": {},
   "source": [
    "5. dropping the columns the are not reqd. and renaming columns from sachin tendulkar dataset"
   ]
  },
  {
   "cell_type": "code",
   "execution_count": 7,
   "metadata": {},
   "outputs": [
    {
     "data": {
      "text/html": [
       "<div>\n",
       "<style scoped>\n",
       "    .dataframe tbody tr th:only-of-type {\n",
       "        vertical-align: middle;\n",
       "    }\n",
       "\n",
       "    .dataframe tbody tr th {\n",
       "        vertical-align: top;\n",
       "    }\n",
       "\n",
       "    .dataframe thead th {\n",
       "        text-align: right;\n",
       "    }\n",
       "</style>\n",
       "<table border=\"1\" class=\"dataframe\">\n",
       "  <thead>\n",
       "    <tr style=\"text-align: right;\">\n",
       "      <th></th>\n",
       "      <th>Score</th>\n",
       "      <th>Against</th>\n",
       "      <th>Stadium</th>\n",
       "    </tr>\n",
       "  </thead>\n",
       "  <tbody>\n",
       "    <tr>\n",
       "      <th>0</th>\n",
       "      <td>119</td>\n",
       "      <td>England</td>\n",
       "      <td>Old Trafford</td>\n",
       "    </tr>\n",
       "    <tr>\n",
       "      <th>1</th>\n",
       "      <td>148</td>\n",
       "      <td>Australia</td>\n",
       "      <td>Sydney Cricket Ground</td>\n",
       "    </tr>\n",
       "    <tr>\n",
       "      <th>2</th>\n",
       "      <td>114</td>\n",
       "      <td>Australia</td>\n",
       "      <td>WACA Ground</td>\n",
       "    </tr>\n",
       "    <tr>\n",
       "      <th>3</th>\n",
       "      <td>111</td>\n",
       "      <td>South Africa</td>\n",
       "      <td>Wanderers Stadium</td>\n",
       "    </tr>\n",
       "    <tr>\n",
       "      <th>4</th>\n",
       "      <td>165</td>\n",
       "      <td>England</td>\n",
       "      <td>M. A. Chidambaram Stadium</td>\n",
       "    </tr>\n",
       "  </tbody>\n",
       "</table>\n",
       "</div>"
      ],
      "text/plain": [
       "   Score       Against                    Stadium\n",
       "0    119       England               Old Trafford\n",
       "1    148     Australia      Sydney Cricket Ground\n",
       "2    114     Australia                WACA Ground\n",
       "3    111  South Africa          Wanderers Stadium\n",
       "4    165       England  M. A. Chidambaram Stadium"
      ]
     },
     "execution_count": 7,
     "metadata": {},
     "output_type": "execute_result"
    }
   ],
   "source": [
    "data_sachin = data_sachin.rename(columns={\"Player of the match\":\"Man of the Match\", \"Venue\":\"Stadium\"})\n",
    "data_sachin = data_sachin.drop([\"test\",\"Date\",\"S.No.\",\"Dismissed\",\"Captain\",\"Position\",\n",
    "                  \"Innings\",\"Strike Rate\",\"H/A\",\"Result\",\"City\",\"Man of the Match\"], axis=1)\n",
    "data_sachin = data_sachin.reindex(columns=[\"Score\",\"Against\",\"Stadium\"])\n",
    "data_sachin.head()"
   ]
  },
  {
   "cell_type": "markdown",
   "metadata": {},
   "source": [
    "6. dropping the columns the are not reqd. and renaming columns from rohit sharma dataset"
   ]
  },
  {
   "cell_type": "code",
   "execution_count": 8,
   "metadata": {},
   "outputs": [
    {
     "data": {
      "text/html": [
       "<div>\n",
       "<style scoped>\n",
       "    .dataframe tbody tr th:only-of-type {\n",
       "        vertical-align: middle;\n",
       "    }\n",
       "\n",
       "    .dataframe tbody tr th {\n",
       "        vertical-align: top;\n",
       "    }\n",
       "\n",
       "    .dataframe thead th {\n",
       "        text-align: right;\n",
       "    }\n",
       "</style>\n",
       "<table border=\"1\" class=\"dataframe\">\n",
       "  <thead>\n",
       "    <tr style=\"text-align: right;\">\n",
       "      <th></th>\n",
       "      <th>Score</th>\n",
       "      <th>Against</th>\n",
       "      <th>Stadium</th>\n",
       "    </tr>\n",
       "  </thead>\n",
       "  <tbody>\n",
       "    <tr>\n",
       "      <th>0</th>\n",
       "      <td>114</td>\n",
       "      <td>Zimbabwe</td>\n",
       "      <td>Queens Sports Club, Bulawayo</td>\n",
       "    </tr>\n",
       "    <tr>\n",
       "      <th>1</th>\n",
       "      <td>101*</td>\n",
       "      <td>Sri Lanka</td>\n",
       "      <td>Queens Sports Club, Bulawayo</td>\n",
       "    </tr>\n",
       "    <tr>\n",
       "      <th>2</th>\n",
       "      <td>141*</td>\n",
       "      <td>Australia</td>\n",
       "      <td>Sawai Mansingh Stadium, Jaipur</td>\n",
       "    </tr>\n",
       "    <tr>\n",
       "      <th>3</th>\n",
       "      <td>209</td>\n",
       "      <td>Australia</td>\n",
       "      <td>M. Chinnaswamy Stadium, Bangalore</td>\n",
       "    </tr>\n",
       "    <tr>\n",
       "      <th>4</th>\n",
       "      <td>177</td>\n",
       "      <td>West Indies</td>\n",
       "      <td>Eden Gardens, Kolkata</td>\n",
       "    </tr>\n",
       "  </tbody>\n",
       "</table>\n",
       "</div>"
      ],
      "text/plain": [
       "   Score      Against                            Stadium\n",
       "0    114     Zimbabwe       Queens Sports Club, Bulawayo\n",
       "1  101*     Sri Lanka       Queens Sports Club, Bulawayo\n",
       "2  141*     Australia     Sawai Mansingh Stadium, Jaipur\n",
       "3    209    Australia  M. Chinnaswamy Stadium, Bangalore\n",
       "4    177  West Indies              Eden Gardens, Kolkata"
      ]
     },
     "execution_count": 8,
     "metadata": {},
     "output_type": "execute_result"
    }
   ],
   "source": [
    "data_rohit = data_rohit.rename(columns={\"Venue\":\"Stadium\"})\n",
    "data_rohit = data_rohit.drop([\"No.\",\"Date\", \"Position\", \"Ground\", \"Innings\",\"Result\"], axis=1)\n",
    "data_rohit.head()"
   ]
  },
  {
   "cell_type": "markdown",
   "metadata": {},
   "source": [
    "7. count of virat kohli centuries against respective opponents"
   ]
  },
  {
   "cell_type": "code",
   "execution_count": 9,
   "metadata": {},
   "outputs": [
    {
     "data": {
      "text/plain": [
       "Australia       15\n",
       "Sri Lanka       13\n",
       "West Indies     11\n",
       "New Zealand      8\n",
       "England          8\n",
       "South Africa     7\n",
       "Bangladesh       5\n",
       "Pakistan         2\n",
       "Zimbabwe         1\n",
       "Afganistan       1\n",
       "Name: Against, dtype: int64"
      ]
     },
     "execution_count": 9,
     "metadata": {},
     "output_type": "execute_result"
    }
   ],
   "source": [
    "data_virat[\"Against\"].value_counts()"
   ]
  },
  {
   "cell_type": "markdown",
   "metadata": {},
   "source": [
    "8. count of sachin tendulkar centuries against respective opponents"
   ]
  },
  {
   "cell_type": "code",
   "execution_count": 10,
   "metadata": {},
   "outputs": [
    {
     "data": {
      "text/plain": [
       "Australia       20\n",
       "Sri Lanka       17\n",
       "South Africa    12\n",
       "New Zealand      9\n",
       "England          9\n",
       "Zimbabwe         8\n",
       "West Indies      7\n",
       "Pakistan         7\n",
       "Bangladesh       6\n",
       "Kenya            4\n",
       "Namibia          1\n",
       "Name: Against, dtype: int64"
      ]
     },
     "execution_count": 10,
     "metadata": {},
     "output_type": "execute_result"
    }
   ],
   "source": [
    "data_sachin[\"Against\"].value_counts()"
   ]
  },
  {
   "cell_type": "markdown",
   "metadata": {},
   "source": [
    "9. count of rohit sharma centuries against respective opponents"
   ]
  },
  {
   "cell_type": "code",
   "execution_count": 11,
   "metadata": {},
   "outputs": [
    {
     "data": {
      "text/plain": [
       "Australia       9\n",
       "Sri Lanka       8\n",
       "South Africa    7\n",
       "West Indies     6\n",
       "England         5\n",
       "Bangladesh      3\n",
       "New Zealand     2\n",
       "Pakistan        2\n",
       "Zimbabwe        1\n",
       "Name: Against, dtype: int64"
      ]
     },
     "execution_count": 11,
     "metadata": {},
     "output_type": "execute_result"
    }
   ],
   "source": [
    "data_rohit[\"Against\"].value_counts()"
   ]
  },
  {
   "cell_type": "markdown",
   "metadata": {},
   "source": [
    "10. creating a list of all the teams that both have played against"
   ]
  },
  {
   "cell_type": "code",
   "execution_count": 12,
   "metadata": {},
   "outputs": [
    {
     "data": {
      "text/plain": [
       "['Australia',\n",
       " 'Sri Lanka',\n",
       " 'West Indies',\n",
       " 'New Zealand',\n",
       " 'England',\n",
       " 'South Africa',\n",
       " 'Bangladesh',\n",
       " 'Pakistan',\n",
       " 'Zimbabwe',\n",
       " 'Afganistan',\n",
       " 'Kenya',\n",
       " 'Namibia']"
      ]
     },
     "execution_count": 12,
     "metadata": {},
     "output_type": "execute_result"
    }
   ],
   "source": [
    "team = data_virat[\"Against\"].value_counts().index.tolist()\n",
    "for i in data_sachin[\"Against\"]:\n",
    "    if i not in team:\n",
    "        team.append(i)\n",
    "for i in data_rohit[\"Against\"]:\n",
    "    if i not in team:\n",
    "        team.append(i)\n",
    "team"
   ]
  },
  {
   "cell_type": "markdown",
   "metadata": {},
   "source": [
    "11. creating a list of count of centuries against each team for virat kohli"
   ]
  },
  {
   "cell_type": "code",
   "execution_count": 13,
   "metadata": {},
   "outputs": [
    {
     "data": {
      "text/plain": [
       "[15, 13, 11, 8, 8, 7, 5, 2, 1, 1, 0, 0]"
      ]
     },
     "execution_count": 13,
     "metadata": {},
     "output_type": "execute_result"
    }
   ],
   "source": [
    "Virat = []\n",
    "for i in team:\n",
    "    if i in data_virat[\"Against\"].tolist():\n",
    "        Virat.append(data_virat[\"Against\"].value_counts()[i])\n",
    "    else:\n",
    "        Virat.append(0)\n",
    "Virat"
   ]
  },
  {
   "cell_type": "markdown",
   "metadata": {},
   "source": [
    "12. creating a list of count of centuries against each team for sachin tendulkar"
   ]
  },
  {
   "cell_type": "code",
   "execution_count": 14,
   "metadata": {},
   "outputs": [
    {
     "data": {
      "text/plain": [
       "[20, 17, 7, 9, 9, 12, 6, 7, 8, 0, 4, 1]"
      ]
     },
     "execution_count": 14,
     "metadata": {},
     "output_type": "execute_result"
    }
   ],
   "source": [
    "Sachin = []\n",
    "for i in team:\n",
    "    if i in data_sachin[\"Against\"].tolist():\n",
    "        Sachin.append(data_sachin[\"Against\"].value_counts()[i])\n",
    "    else:\n",
    "        Sachin.append(0)\n",
    "Sachin"
   ]
  },
  {
   "cell_type": "markdown",
   "metadata": {},
   "source": [
    "13. creating a list of count of centuries against each team for rohit sharma"
   ]
  },
  {
   "cell_type": "code",
   "execution_count": 15,
   "metadata": {},
   "outputs": [
    {
     "data": {
      "text/plain": [
       "[9, 8, 6, 2, 5, 7, 3, 2, 1, 0, 0, 0]"
      ]
     },
     "execution_count": 15,
     "metadata": {},
     "output_type": "execute_result"
    }
   ],
   "source": [
    "Rohit = []\n",
    "for i in team:\n",
    "    if i in data_rohit[\"Against\"].tolist():\n",
    "        Rohit.append(data_rohit[\"Against\"].value_counts()[i])\n",
    "    else:\n",
    "        Rohit.append(0)\n",
    "Rohit"
   ]
  },
  {
   "cell_type": "markdown",
   "metadata": {},
   "source": [
    "14. creating a function for radar chart"
   ]
  },
  {
   "cell_type": "code",
   "execution_count": 16,
   "metadata": {},
   "outputs": [],
   "source": [
    "def radar_chart(player1,player2,player3,comparison,label1,label2,label3,title):\n",
    "    angles=np.linspace(0,2*np.pi,len(comparison), endpoint=False)\n",
    "    angles=np.concatenate((angles,[angles[0]]))\n",
    "    \n",
    "    team.append(comparison[0])\n",
    "    player1.append(player1[0])\n",
    "    player2.append(player2[0])\n",
    "    player3.append(player3[0])\n",
    "    \n",
    "    fig=plt.figure(figsize=(6,6))\n",
    "    ax=fig.add_subplot(111, polar=True)\n",
    "\n",
    "    #player1 Plot\n",
    "    ax.plot(angles,player1, 'o-', color='g', linewidth=2, label=player1)\n",
    "    ax.fill(angles,player1, alpha=0.25, color='g')\n",
    "    #player2 Plot\n",
    "    ax.plot(angles,player2, 'o-', color='orange', linewidth=2, label=player2)\n",
    "    ax.fill(angles,player2, alpha=0.25, color='orange')\n",
    "    #player3 Plot\n",
    "    ax.plot(angles,player3, 'o-', color='purple', linewidth=2, label=player3)\n",
    "    ax.fill(angles,player3, alpha=0.25, color='purple')\n",
    "\n",
    "    ax.set_rgrids([0,5,10,15,20])\n",
    "    ax.set_thetagrids(angles * 180/np.pi, team)\n",
    "    ax.set_title(title, weight='bold', size='medium', position=(0.5, 1.1),\n",
    "                         horizontalalignment='center', verticalalignment='center')\n",
    "\n",
    "\n",
    "    plt.grid(True)\n",
    "    plt.tight_layout()\n",
    "    labels = (label1,label2,label3)\n",
    "    plt.legend(labels, loc=(0.9, .95),labelspacing=0.1, fontsize='medium')\n",
    "    plt.show()\n"
   ]
  },
  {
   "cell_type": "markdown",
   "metadata": {},
   "source": [
    "15. Sachin vs Virat vs Rohit 100s Comparison (Opponent wise)"
   ]
  },
  {
   "cell_type": "code",
   "execution_count": 17,
   "metadata": {},
   "outputs": [
    {
     "data": {
      "image/png": "[encoded data removed]",
      "text/plain": [
       "<Figure size 432x432 with 1 Axes>"
      ]
     },
     "metadata": {},
     "output_type": "display_data"
    }
   ],
   "source": [
    "radar_chart(Sachin,Virat,Rohit,team,\"Sachin\",\"Virat\",\"Rohit\",\"Sachin vs. Virat vs. Rohit 100s comparison\")"
   ]
  },
  {
   "cell_type": "markdown",
   "metadata": {},
   "source": [
    "completed"
   ]
  }
 ],
 "metadata": {
  "kernelspec": {
   "display_name": "Python 3",
   "language": "python",
   "name": "python3"
  },
  "language_info": {
   "codemirror_mode": {
    "name": "ipython",
    "version": 3
   },
   "file_extension": ".py",
   "mimetype": "text/x-python",
   "name": "python",
   "nbconvert_exporter": "python",
   "pygments_lexer": "ipython3",
   "version": "3.8.3"
  }
 },
 "nbformat": 4,
 "nbformat_minor": 4
}
